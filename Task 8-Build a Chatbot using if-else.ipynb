{
 "cells": [
  {
   "cell_type": "code",
   "execution_count": 2,
   "id": "d9347fa0",
   "metadata": {},
   "outputs": [
    {
     "name": "stdout",
     "output_type": "stream",
     "text": [
      "Chatbot: Hello! I am a simple chatbot. Type 'bye' to exit.\n",
      "You: hi\n",
      "Chatbot: Hello! How are you?\n",
      "You: i am fine\n",
      "Chatbot: That's great to hear!\n",
      "You: i am simple chatboat created using python\n",
      "Chatbot: I'm not sure I understand that.\n",
      "You: goodbye\n",
      "Chatbot: Goodbye! Have a nice day.\n"
     ]
    }
   ],
   "source": [
    "print(\"Chatbot: Hello! I am a simple chatbot. Type 'bye' to exit.\")\n",
    "\n",
    "while True:\n",
    "    user_input = input(\"You: \").lower()   # Convert input to lowercase for easier matching\n",
    "\n",
    "    if user_input in [\"hi\", \"hello\", \"hey\"]:\n",
    "        print(\"Chatbot: Hello! How are you?\")\n",
    "    elif user_input in [\"i am fine\", \"i'm good\", \"doing well\"]:\n",
    "        print(\"Chatbot: That's great to hear!\")\n",
    "    elif \"your name\" in user_input:\n",
    "        print(\"Chatbot: I am a simple chatbot created using Python.\")\n",
    "    elif \"how are you\" in user_input:\n",
    "        print(\"Chatbot: I'm just a program, but I'm doing fine!\")\n",
    "    elif \"bye\" in user_input:\n",
    "        print(\"Chatbot: Goodbye! Have a nice day.\")\n",
    "        break\n",
    "    else:\n",
    "        print(\"Chatbot: I'm not sure I understand that.\")"
   ]
  },
  {
   "cell_type": "code",
   "execution_count": null,
   "id": "9e7502b2",
   "metadata": {},
   "outputs": [],
   "source": []
  }
 ],
 "metadata": {
  "kernelspec": {
   "display_name": "Python 3 (ipykernel)",
   "language": "python",
   "name": "python3"
  },
  "language_info": {
   "codemirror_mode": {
    "name": "ipython",
    "version": 3
   },
   "file_extension": ".py",
   "mimetype": "text/x-python",
   "name": "python",
   "nbconvert_exporter": "python",
   "pygments_lexer": "ipython3",
   "version": "3.11.4"
  }
 },
 "nbformat": 4,
 "nbformat_minor": 5
}
